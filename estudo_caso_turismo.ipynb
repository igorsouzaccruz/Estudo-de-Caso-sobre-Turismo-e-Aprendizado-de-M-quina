{
 "cells": [
  {
   "cell_type": "markdown",
   "id": "3f133150",
   "metadata": {},
   "source": [
    "### Etapas do Trabalho:  Estudo de Caso sobre Turismo e Aprendizado de Máquina \n",
    " - Aluno: Igor Souza Cruz"
   ]
  },
  {
   "cell_type": "code",
   "execution_count": 43,
   "id": "5c9df586-2f3e-452b-a282-375ec1bcca79",
   "metadata": {},
   "outputs": [],
   "source": [
    "# Importação das bibliotecas\n",
    "import pandas as pd\n",
    "from sklearn.model_selection import train_test_split\n",
    "from sklearn.naive_bayes import GaussianNB\n",
    "from sklearn.preprocessing import LabelEncoder\n",
    "from sklearn.metrics import confusion_matrix, accuracy_score\n",
    "from yellowbrick.classifier import ConfusionMatrix \n",
    "import seaborn as srn\n",
    "import statistics  as sts"
   ]
  },
  {
   "cell_type": "code",
   "execution_count": 3,
   "id": "ef0ecb89-5f55-4080-bcb4-1e0c31f676c7",
   "metadata": {},
   "outputs": [
    {
     "data": {
      "text/plain": [
       "(49104, 12)"
      ]
     },
     "execution_count": 3,
     "metadata": {},
     "output_type": "execute_result"
    }
   ],
   "source": [
    "# Carregamento da base de dados \n",
    "# O ano de 2019 foi escolhido devido a ser um ano marcante pois se refere ao inicio da pandemia e como os turistas foram uns dos vetores\n",
    "# Sera realizada uma analize dos turistas que chegaram ao ceara no ano de 2019\n",
    "chegada_turista_internacionais = pd.read_csv('chegadas_2019.csv',sep = ';')\n",
    "chegada_turista_internacionais.shape"
   ]
  },
  {
   "cell_type": "code",
   "execution_count": 5,
   "id": "946f97f4-3fdf-45c8-b59c-c52d1cb85ee7",
   "metadata": {},
   "outputs": [
    {
     "data": {
      "text/html": [
       "<div>\n",
       "<style scoped>\n",
       "    .dataframe tbody tr th:only-of-type {\n",
       "        vertical-align: middle;\n",
       "    }\n",
       "\n",
       "    .dataframe tbody tr th {\n",
       "        vertical-align: top;\n",
       "    }\n",
       "\n",
       "    .dataframe thead th {\n",
       "        text-align: right;\n",
       "    }\n",
       "</style>\n",
       "<table border=\"1\" class=\"dataframe\">\n",
       "  <thead>\n",
       "    <tr style=\"text-align: right;\">\n",
       "      <th></th>\n",
       "      <th>Continente</th>\n",
       "      <th>cod continente</th>\n",
       "      <th>País</th>\n",
       "      <th>cod pais</th>\n",
       "      <th>UF</th>\n",
       "      <th>cod uf</th>\n",
       "      <th>Via</th>\n",
       "      <th>cod via</th>\n",
       "      <th>ano</th>\n",
       "      <th>Mês</th>\n",
       "      <th>cod mes</th>\n",
       "      <th>Chegadas</th>\n",
       "    </tr>\n",
       "  </thead>\n",
       "  <tbody>\n",
       "    <tr>\n",
       "      <th>0</th>\n",
       "      <td>África</td>\n",
       "      <td>1</td>\n",
       "      <td>África do Sul</td>\n",
       "      <td>2</td>\n",
       "      <td>Acre</td>\n",
       "      <td>1</td>\n",
       "      <td>Aérea</td>\n",
       "      <td>1</td>\n",
       "      <td>2019</td>\n",
       "      <td>janeiro</td>\n",
       "      <td>1</td>\n",
       "      <td>0</td>\n",
       "    </tr>\n",
       "    <tr>\n",
       "      <th>1</th>\n",
       "      <td>África</td>\n",
       "      <td>1</td>\n",
       "      <td>África do Sul</td>\n",
       "      <td>2</td>\n",
       "      <td>Acre</td>\n",
       "      <td>1</td>\n",
       "      <td>Aérea</td>\n",
       "      <td>1</td>\n",
       "      <td>2019</td>\n",
       "      <td>fevereiro</td>\n",
       "      <td>2</td>\n",
       "      <td>0</td>\n",
       "    </tr>\n",
       "    <tr>\n",
       "      <th>2</th>\n",
       "      <td>África</td>\n",
       "      <td>1</td>\n",
       "      <td>África do Sul</td>\n",
       "      <td>2</td>\n",
       "      <td>Acre</td>\n",
       "      <td>1</td>\n",
       "      <td>Aérea</td>\n",
       "      <td>1</td>\n",
       "      <td>2019</td>\n",
       "      <td>março</td>\n",
       "      <td>3</td>\n",
       "      <td>0</td>\n",
       "    </tr>\n",
       "    <tr>\n",
       "      <th>3</th>\n",
       "      <td>África</td>\n",
       "      <td>1</td>\n",
       "      <td>África do Sul</td>\n",
       "      <td>2</td>\n",
       "      <td>Acre</td>\n",
       "      <td>1</td>\n",
       "      <td>Aérea</td>\n",
       "      <td>1</td>\n",
       "      <td>2019</td>\n",
       "      <td>abril</td>\n",
       "      <td>4</td>\n",
       "      <td>0</td>\n",
       "    </tr>\n",
       "    <tr>\n",
       "      <th>4</th>\n",
       "      <td>África</td>\n",
       "      <td>1</td>\n",
       "      <td>África do Sul</td>\n",
       "      <td>2</td>\n",
       "      <td>Acre</td>\n",
       "      <td>1</td>\n",
       "      <td>Aérea</td>\n",
       "      <td>1</td>\n",
       "      <td>2019</td>\n",
       "      <td>maio</td>\n",
       "      <td>5</td>\n",
       "      <td>0</td>\n",
       "    </tr>\n",
       "  </tbody>\n",
       "</table>\n",
       "</div>"
      ],
      "text/plain": [
       "  Continente  cod continente           País  cod pais    UF  cod uf    Via  \\\n",
       "0     África               1  África do Sul         2  Acre       1  Aérea   \n",
       "1     África               1  África do Sul         2  Acre       1  Aérea   \n",
       "2     África               1  África do Sul         2  Acre       1  Aérea   \n",
       "3     África               1  África do Sul         2  Acre       1  Aérea   \n",
       "4     África               1  África do Sul         2  Acre       1  Aérea   \n",
       "\n",
       "   cod via   ano        Mês  cod mes  Chegadas  \n",
       "0        1  2019    janeiro        1         0  \n",
       "1        1  2019  fevereiro        2         0  \n",
       "2        1  2019      março        3         0  \n",
       "3        1  2019      abril        4         0  \n",
       "4        1  2019       maio        5         0  "
      ]
     },
     "execution_count": 5,
     "metadata": {},
     "output_type": "execute_result"
    }
   ],
   "source": [
    "chegada_turista_internacionais.head()"
   ]
  },
  {
   "cell_type": "code",
   "execution_count": 7,
   "id": "0f56dd9d-ee33-4194-8164-b9d39af71cfa",
   "metadata": {},
   "outputs": [
    {
     "data": {
      "text/plain": [
       "(2232, 12)"
      ]
     },
     "execution_count": 7,
     "metadata": {},
     "output_type": "execute_result"
    }
   ],
   "source": [
    "turistas_internacionais_no_ceara = chegada_turista_internacionais[chegada_turista_internacionais['UF'] == 'Ceará']\n",
    "turistas_internacionais_no_ceara.shape"
   ]
  },
  {
   "cell_type": "code",
   "execution_count": 9,
   "id": "1b2cca82-82fc-4324-a953-7706981390e6",
   "metadata": {},
   "outputs": [
    {
     "data": {
      "text/html": [
       "<div>\n",
       "<style scoped>\n",
       "    .dataframe tbody tr th:only-of-type {\n",
       "        vertical-align: middle;\n",
       "    }\n",
       "\n",
       "    .dataframe tbody tr th {\n",
       "        vertical-align: top;\n",
       "    }\n",
       "\n",
       "    .dataframe thead th {\n",
       "        text-align: right;\n",
       "    }\n",
       "</style>\n",
       "<table border=\"1\" class=\"dataframe\">\n",
       "  <thead>\n",
       "    <tr style=\"text-align: right;\">\n",
       "      <th></th>\n",
       "      <th>Continente</th>\n",
       "      <th>cod continente</th>\n",
       "      <th>País</th>\n",
       "      <th>cod pais</th>\n",
       "      <th>UF</th>\n",
       "      <th>cod uf</th>\n",
       "      <th>Via</th>\n",
       "      <th>cod via</th>\n",
       "      <th>ano</th>\n",
       "      <th>Mês</th>\n",
       "      <th>cod mes</th>\n",
       "      <th>Chegadas</th>\n",
       "    </tr>\n",
       "  </thead>\n",
       "  <tbody>\n",
       "    <tr>\n",
       "      <th>12276</th>\n",
       "      <td>África</td>\n",
       "      <td>1</td>\n",
       "      <td>África do Sul</td>\n",
       "      <td>2</td>\n",
       "      <td>Ceará</td>\n",
       "      <td>6</td>\n",
       "      <td>Aérea</td>\n",
       "      <td>1</td>\n",
       "      <td>2019</td>\n",
       "      <td>janeiro</td>\n",
       "      <td>1</td>\n",
       "      <td>0</td>\n",
       "    </tr>\n",
       "    <tr>\n",
       "      <th>12277</th>\n",
       "      <td>África</td>\n",
       "      <td>1</td>\n",
       "      <td>África do Sul</td>\n",
       "      <td>2</td>\n",
       "      <td>Ceará</td>\n",
       "      <td>6</td>\n",
       "      <td>Aérea</td>\n",
       "      <td>1</td>\n",
       "      <td>2019</td>\n",
       "      <td>fevereiro</td>\n",
       "      <td>2</td>\n",
       "      <td>1</td>\n",
       "    </tr>\n",
       "    <tr>\n",
       "      <th>12278</th>\n",
       "      <td>África</td>\n",
       "      <td>1</td>\n",
       "      <td>África do Sul</td>\n",
       "      <td>2</td>\n",
       "      <td>Ceará</td>\n",
       "      <td>6</td>\n",
       "      <td>Aérea</td>\n",
       "      <td>1</td>\n",
       "      <td>2019</td>\n",
       "      <td>março</td>\n",
       "      <td>3</td>\n",
       "      <td>1</td>\n",
       "    </tr>\n",
       "    <tr>\n",
       "      <th>12279</th>\n",
       "      <td>África</td>\n",
       "      <td>1</td>\n",
       "      <td>África do Sul</td>\n",
       "      <td>2</td>\n",
       "      <td>Ceará</td>\n",
       "      <td>6</td>\n",
       "      <td>Aérea</td>\n",
       "      <td>1</td>\n",
       "      <td>2019</td>\n",
       "      <td>abril</td>\n",
       "      <td>4</td>\n",
       "      <td>0</td>\n",
       "    </tr>\n",
       "    <tr>\n",
       "      <th>12280</th>\n",
       "      <td>África</td>\n",
       "      <td>1</td>\n",
       "      <td>África do Sul</td>\n",
       "      <td>2</td>\n",
       "      <td>Ceará</td>\n",
       "      <td>6</td>\n",
       "      <td>Aérea</td>\n",
       "      <td>1</td>\n",
       "      <td>2019</td>\n",
       "      <td>maio</td>\n",
       "      <td>5</td>\n",
       "      <td>2</td>\n",
       "    </tr>\n",
       "  </tbody>\n",
       "</table>\n",
       "</div>"
      ],
      "text/plain": [
       "      Continente  cod continente           País  cod pais     UF  cod uf  \\\n",
       "12276     África               1  África do Sul         2  Ceará       6   \n",
       "12277     África               1  África do Sul         2  Ceará       6   \n",
       "12278     África               1  África do Sul         2  Ceará       6   \n",
       "12279     África               1  África do Sul         2  Ceará       6   \n",
       "12280     África               1  África do Sul         2  Ceará       6   \n",
       "\n",
       "         Via  cod via   ano        Mês  cod mes  Chegadas  \n",
       "12276  Aérea        1  2019    janeiro        1         0  \n",
       "12277  Aérea        1  2019  fevereiro        2         1  \n",
       "12278  Aérea        1  2019      março        3         1  \n",
       "12279  Aérea        1  2019      abril        4         0  \n",
       "12280  Aérea        1  2019       maio        5         2  "
      ]
     },
     "execution_count": 9,
     "metadata": {},
     "output_type": "execute_result"
    }
   ],
   "source": [
    "turistas_internacionais_no_ceara.head()"
   ]
  },
  {
   "cell_type": "code",
   "execution_count": 11,
   "id": "d59b2f3f-b760-40a9-af69-9b2edd402b03",
   "metadata": {},
   "outputs": [
    {
     "data": {
      "text/html": [
       "<div>\n",
       "<style scoped>\n",
       "    .dataframe tbody tr th:only-of-type {\n",
       "        vertical-align: middle;\n",
       "    }\n",
       "\n",
       "    .dataframe tbody tr th {\n",
       "        vertical-align: top;\n",
       "    }\n",
       "\n",
       "    .dataframe thead th {\n",
       "        text-align: right;\n",
       "    }\n",
       "</style>\n",
       "<table border=\"1\" class=\"dataframe\">\n",
       "  <thead>\n",
       "    <tr style=\"text-align: right;\">\n",
       "      <th></th>\n",
       "      <th>Continente</th>\n",
       "      <th>cod continente</th>\n",
       "      <th>País</th>\n",
       "      <th>cod pais</th>\n",
       "      <th>UF</th>\n",
       "      <th>cod uf</th>\n",
       "      <th>Via</th>\n",
       "      <th>cod via</th>\n",
       "      <th>ano</th>\n",
       "      <th>Mês</th>\n",
       "      <th>cod mes</th>\n",
       "      <th>Chegadas</th>\n",
       "    </tr>\n",
       "  </thead>\n",
       "  <tbody>\n",
       "    <tr>\n",
       "      <th>14503</th>\n",
       "      <td>Oceania</td>\n",
       "      <td>7</td>\n",
       "      <td>Outros países</td>\n",
       "      <td>998</td>\n",
       "      <td>Ceará</td>\n",
       "      <td>6</td>\n",
       "      <td>Marítima</td>\n",
       "      <td>3</td>\n",
       "      <td>2019</td>\n",
       "      <td>agosto</td>\n",
       "      <td>8</td>\n",
       "      <td>0</td>\n",
       "    </tr>\n",
       "    <tr>\n",
       "      <th>14504</th>\n",
       "      <td>Oceania</td>\n",
       "      <td>7</td>\n",
       "      <td>Outros países</td>\n",
       "      <td>998</td>\n",
       "      <td>Ceará</td>\n",
       "      <td>6</td>\n",
       "      <td>Marítima</td>\n",
       "      <td>3</td>\n",
       "      <td>2019</td>\n",
       "      <td>setembro</td>\n",
       "      <td>9</td>\n",
       "      <td>0</td>\n",
       "    </tr>\n",
       "    <tr>\n",
       "      <th>14505</th>\n",
       "      <td>Oceania</td>\n",
       "      <td>7</td>\n",
       "      <td>Outros países</td>\n",
       "      <td>998</td>\n",
       "      <td>Ceará</td>\n",
       "      <td>6</td>\n",
       "      <td>Marítima</td>\n",
       "      <td>3</td>\n",
       "      <td>2019</td>\n",
       "      <td>outubro</td>\n",
       "      <td>10</td>\n",
       "      <td>0</td>\n",
       "    </tr>\n",
       "    <tr>\n",
       "      <th>14506</th>\n",
       "      <td>Oceania</td>\n",
       "      <td>7</td>\n",
       "      <td>Outros países</td>\n",
       "      <td>998</td>\n",
       "      <td>Ceará</td>\n",
       "      <td>6</td>\n",
       "      <td>Marítima</td>\n",
       "      <td>3</td>\n",
       "      <td>2019</td>\n",
       "      <td>novembro</td>\n",
       "      <td>11</td>\n",
       "      <td>0</td>\n",
       "    </tr>\n",
       "    <tr>\n",
       "      <th>14507</th>\n",
       "      <td>Oceania</td>\n",
       "      <td>7</td>\n",
       "      <td>Outros países</td>\n",
       "      <td>998</td>\n",
       "      <td>Ceará</td>\n",
       "      <td>6</td>\n",
       "      <td>Marítima</td>\n",
       "      <td>3</td>\n",
       "      <td>2019</td>\n",
       "      <td>dezembro</td>\n",
       "      <td>12</td>\n",
       "      <td>0</td>\n",
       "    </tr>\n",
       "  </tbody>\n",
       "</table>\n",
       "</div>"
      ],
      "text/plain": [
       "      Continente  cod continente           País  cod pais     UF  cod uf  \\\n",
       "14503    Oceania               7  Outros países       998  Ceará       6   \n",
       "14504    Oceania               7  Outros países       998  Ceará       6   \n",
       "14505    Oceania               7  Outros países       998  Ceará       6   \n",
       "14506    Oceania               7  Outros países       998  Ceará       6   \n",
       "14507    Oceania               7  Outros países       998  Ceará       6   \n",
       "\n",
       "            Via  cod via   ano       Mês  cod mes  Chegadas  \n",
       "14503  Marítima        3  2019    agosto        8         0  \n",
       "14504  Marítima        3  2019  setembro        9         0  \n",
       "14505  Marítima        3  2019   outubro       10         0  \n",
       "14506  Marítima        3  2019  novembro       11         0  \n",
       "14507  Marítima        3  2019  dezembro       12         0  "
      ]
     },
     "execution_count": 11,
     "metadata": {},
     "output_type": "execute_result"
    }
   ],
   "source": [
    "turistas_internacionais_no_ceara.tail()"
   ]
  },
  {
   "cell_type": "code",
   "execution_count": 23,
   "id": "24f072f0-f3fb-48a6-9d6f-d22c7072fbb0",
   "metadata": {},
   "outputs": [
    {
     "data": {
      "text/plain": [
       "Continente\n",
       "América Central e Caribe       264\n",
       "América do Norte                72\n",
       "América do Sul                 288\n",
       "Continente não especificado     24\n",
       "Europa                         792\n",
       "Oceania                         72\n",
       "África                         264\n",
       "Ásia                           456\n",
       "dtype: int64"
      ]
     },
     "execution_count": 23,
     "metadata": {},
     "output_type": "execute_result"
    }
   ],
   "source": [
    "agrupado_por_continente = turistas_internacionais_no_ceara.groupby(['Continente']).size()\n",
    "agrupado_por_continente"
   ]
  },
  {
   "cell_type": "code",
   "execution_count": 25,
   "id": "b1b02f4c-12b1-4e3c-b6ce-9fd015d53dd9",
   "metadata": {},
   "outputs": [
    {
     "data": {
      "text/plain": [
       "<Axes: xlabel='Continente'>"
      ]
     },
     "execution_count": 25,
     "metadata": {},
     "output_type": "execute_result"
    },
    {
     "data": {
      "image/png": "[encoded data removed]",
      "text/plain": [
       "<Figure size 800x550 with 1 Axes>"
      ]
     },
     "metadata": {},
     "output_type": "display_data"
    }
   ],
   "source": [
    "agrupado_por_continente.plot.bar(color = 'gray')"
   ]
  },
  {
   "cell_type": "code",
   "execution_count": 27,
   "id": "60df9237-01de-486d-b9b4-a0d1cf40df9a",
   "metadata": {},
   "outputs": [
    {
     "data": {
      "text/plain": [
       "count    2232.000000\n",
       "mean       50.591398\n",
       "std       224.638644\n",
       "min         0.000000\n",
       "25%         0.000000\n",
       "50%         0.000000\n",
       "75%         5.000000\n",
       "max      3301.000000\n",
       "Name: Chegadas, dtype: float64"
      ]
     },
     "execution_count": 27,
     "metadata": {},
     "output_type": "execute_result"
    }
   ],
   "source": [
    "turistas_internacionais_no_ceara['Chegadas'].describe()"
   ]
  },
  {
   "cell_type": "code",
   "execution_count": 51,
   "id": "adbd6dcd-044b-4d37-8b5a-abee8d5c7845",
   "metadata": {},
   "outputs": [
    {
     "data": {
      "text/plain": [
       "0.0"
      ]
     },
     "execution_count": 51,
     "metadata": {},
     "output_type": "execute_result"
    }
   ],
   "source": [
    "mediana = sts.median(turistas_internacionais_no_ceara['Chegadas'])\n",
    "mediana"
   ]
  },
  {
   "cell_type": "code",
   "execution_count": 33,
   "id": "f8cc42f4-aca0-4d81-8b38-a9ed6c1d0def",
   "metadata": {},
   "outputs": [
    {
     "data": {
      "text/plain": [
       "Text(0.5, 1.0, 'Chegadas')"
      ]
     },
     "execution_count": 33,
     "metadata": {},
     "output_type": "execute_result"
    },
    {
     "data": {
      "image/png": "[encoded data removed]",
      "text/plain": [
       "<Figure size 800x550 with 1 Axes>"
      ]
     },
     "metadata": {},
     "output_type": "display_data"
    }
   ],
   "source": [
    "srn.boxplot(turistas_internacionais_no_ceara['Chegadas']).set_title('Chegadas')"
   ]
  },
  {
   "cell_type": "code",
   "execution_count": 57,
   "id": "61872057-1c7e-4865-92ac-a13f4667ec2e",
   "metadata": {},
   "outputs": [
    {
     "name": "stderr",
     "output_type": "stream",
     "text": [
      "C:\\Users\\Igor\\AppData\\Local\\Temp\\ipykernel_20412\\3889028155.py:1: UserWarning: \n",
      "\n",
      "`distplot` is a deprecated function and will be removed in seaborn v0.14.0.\n",
      "\n",
      "Please adapt your code to use either `displot` (a figure-level function with\n",
      "similar flexibility) or `histplot` (an axes-level function for histograms).\n",
      "\n",
      "For a guide to updating your code to use the new functions, please see\n",
      "https://gist.github.com/mwaskom/de44147ed2974457ad6372750bbe5751\n",
      "\n",
      "  srn.distplot(turistas_internacionais_no_ceara['Chegadas']).set_title('Chegadas')\n"
     ]
    },
    {
     "data": {
      "text/plain": [
       "Text(0.5, 1.0, 'Chegadas')"
      ]
     },
     "execution_count": 57,
     "metadata": {},
     "output_type": "execute_result"
    },
    {
     "data": {
      "image/png": "[encoded data removed]",
      "text/plain": [
       "<Figure size 800x550 with 1 Axes>"
      ]
     },
     "metadata": {},
     "output_type": "display_data"
    }
   ],
   "source": [
    "srn.distplot(turistas_internacionais_no_ceara['Chegadas']).set_title('Chegadas')"
   ]
  },
  {
   "cell_type": "code",
   "execution_count": 61,
   "id": "4af7af8b-96d1-478c-a38d-e05f9caed07c",
   "metadata": {},
   "outputs": [
    {
     "data": {
      "text/plain": [
       "País\n",
       "Outros países    120\n",
       "África do Sul     24\n",
       "Áustria           24\n",
       "Finlândia         24\n",
       "Estônia           24\n",
       "                ... \n",
       "Equador           24\n",
       "Colômbia          24\n",
       "Chile             24\n",
       "Bolívia           24\n",
       "Nova Zelândia     24\n",
       "Name: count, Length: 89, dtype: int64"
      ]
     },
     "execution_count": 61,
     "metadata": {},
     "output_type": "execute_result"
    }
   ],
   "source": [
    "turistas_internacionais_no_ceara['País'].value_counts()"
   ]
  },
  {
   "cell_type": "code",
   "execution_count": 39,
   "id": "7fb0b1e7-1cf8-4a49-bb0b-6ed3a2dc96cc",
   "metadata": {},
   "outputs": [
    {
     "data": {
      "text/plain": [
       "Via\n",
       "Aérea       1116\n",
       "Marítima    1116\n",
       "dtype: int64"
      ]
     },
     "execution_count": 39,
     "metadata": {},
     "output_type": "execute_result"
    }
   ],
   "source": [
    "agrupado_por_via = turistas_internacionais_no_ceara.groupby(['Via']).size()\n",
    "agrupado_por_via"
   ]
  },
  {
   "cell_type": "code",
   "execution_count": 53,
   "id": "d4a8ac58-c226-414e-8eb3-c83d2d13da05",
   "metadata": {},
   "outputs": [
    {
     "data": {
      "text/plain": [
       "Mês\n",
       "abril        186\n",
       "agosto       186\n",
       "dezembro     186\n",
       "fevereiro    186\n",
       "janeiro      186\n",
       "julho        186\n",
       "junho        186\n",
       "maio         186\n",
       "março        186\n",
       "novembro     186\n",
       "outubro      186\n",
       "setembro     186\n",
       "dtype: int64"
      ]
     },
     "execution_count": 53,
     "metadata": {},
     "output_type": "execute_result"
    }
   ],
   "source": [
    "agrupado_por_mes = turistas_internacionais_no_ceara.groupby(['Mês']).size()\n",
    "agrupado_por_mes"
   ]
  },
  {
   "cell_type": "code",
   "execution_count": 55,
   "id": "19d527a4-9350-452b-b39c-08076364cf59",
   "metadata": {},
   "outputs": [
    {
     "data": {
      "text/plain": [
       "<Axes: xlabel='Mês'>"
      ]
     },
     "execution_count": 55,
     "metadata": {},
     "output_type": "execute_result"
    },
    {
     "data": {
      "image/png": "[encoded data removed]",
      "text/plain": [
       "<Figure size 800x550 with 1 Axes>"
      ]
     },
     "metadata": {},
     "output_type": "display_data"
    }
   ],
   "source": [
    "agrupado_por_mes.plot.bar(color = 'gray')"
   ]
  },
  {
   "cell_type": "code",
   "execution_count": 41,
   "id": "8f7efc60-3281-41ec-a8e5-51dd114d1a4e",
   "metadata": {},
   "outputs": [
    {
     "data": {
      "text/plain": [
       "Continente        0\n",
       "cod continente    0\n",
       "País              0\n",
       "cod pais          0\n",
       "UF                0\n",
       "cod uf            0\n",
       "Via               0\n",
       "cod via           0\n",
       "ano               0\n",
       "Mês               0\n",
       "cod mes           0\n",
       "Chegadas          0\n",
       "dtype: int64"
      ]
     },
     "execution_count": 41,
     "metadata": {},
     "output_type": "execute_result"
    }
   ],
   "source": [
    "turistas_internacionais_no_ceara.isnull().sum()"
   ]
  },
  {
   "cell_type": "code",
   "execution_count": null,
   "id": "5194f0e8-f8be-4691-a893-a9a25bb7b1f9",
   "metadata": {},
   "outputs": [],
   "source": []
  }
 ],
 "metadata": {
  "kernelspec": {
   "display_name": "Python [conda env:base] *",
   "language": "python",
   "name": "conda-base-py"
  },
  "language_info": {
   "codemirror_mode": {
    "name": "ipython",
    "version": 3
   },
   "file_extension": ".py",
   "mimetype": "text/x-python",
   "name": "python",
   "nbconvert_exporter": "python",
   "pygments_lexer": "ipython3",
   "version": "3.12.7"
  }
 },
 "nbformat": 4,
 "nbformat_minor": 5
}
